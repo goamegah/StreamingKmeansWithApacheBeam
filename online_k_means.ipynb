{
 "cells": [
  {
   "cell_type": "markdown",
   "source": [
    "# Online version of K-means"
   ],
   "metadata": {
    "collapsed": false
   },
   "id": "1f7b42d7b100c69"
  },
  {
   "cell_type": "markdown",
   "source": [
    "## Data acquisition"
   ],
   "metadata": {
    "collapsed": false
   },
   "id": "e24fea48276609ee"
  },
  {
   "cell_type": "code",
   "execution_count": 88,
   "outputs": [],
   "source": [
    "from sklearn.datasets import make_blobs\n",
    "import numpy as np\n",
    "import pandas as pd\n",
    "import os"
   ],
   "metadata": {
    "collapsed": false,
    "ExecuteTime": {
     "end_time": "2023-12-11T23:38:02.235303209Z",
     "start_time": "2023-12-11T23:38:02.193030396Z"
    }
   },
   "id": "23f87a8b4378191e"
  },
  {
   "cell_type": "code",
   "execution_count": 89,
   "outputs": [],
   "source": [
    "# Génération de nouvelles données avec 2 classes\n",
    "X, _ = make_blobs(n_samples=100, centers=2, random_state=42)\n",
    "\n",
    "DATA_PATH = 'data'\n",
    "os.makedirs(DATA_PATH, exist_ok=True)\n",
    "\n",
    "# Sauvegarde des données dans un fichier CSV\n",
    "df = pd.DataFrame(X, columns=['Feature1', 'Feature2'])\n",
    "df.to_csv(f'{DATA_PATH}/data.csv', index=False)"
   ],
   "metadata": {
    "collapsed": false,
    "ExecuteTime": {
     "end_time": "2023-12-11T23:38:02.250066776Z",
     "start_time": "2023-12-11T23:38:02.236213445Z"
    }
   },
   "id": "28fbc72c3f9b192"
  },
  {
   "cell_type": "markdown",
   "source": [
    "## Sequential K-means"
   ],
   "metadata": {
    "collapsed": false
   },
   "id": "8bc6b82f25ca39a3"
  },
  {
   "cell_type": "code",
   "execution_count": 90,
   "outputs": [],
   "source": [
    "# Fonction générateur pour charger les données par batch\n",
    "def data_generator(file_path, batch_size):\n",
    "    for chunk in pd.read_csv(file_path, chunksize=batch_size):\n",
    "        yield chunk.values\n",
    "\n",
    "# Initialisation aléatoire des centres\n",
    "def initialize_centers(data, k):\n",
    "    return data[np.random.choice(len(data), k, replace=False)]\n",
    "\n",
    "# Mise à jour des centres, des effectifs et des labels pour un lot de données\n",
    "def update_centers(data, centers, counts):\n",
    "    \"\"\" \n",
    "    \"\"\"\n",
    "    mu = np.copy(centers)\n",
    "    n = np.copy(counts)\n",
    "    labels = np.zeros(len(data), dtype=int)\n",
    "    \n",
    "    for i, x_i in enumerate(data):\n",
    "        j = np.argmin(np.linalg.norm(mu - x_i, axis=1))\n",
    "        eta = 1 / (n[j] + 1)\n",
    "        mu[j] += eta * (x_i - mu[j])\n",
    "        n[j] += 1\n",
    "        labels[i] = j\n",
    "    return mu, n, labels\n"
   ],
   "metadata": {
    "collapsed": false,
    "ExecuteTime": {
     "end_time": "2023-12-11T23:38:02.304153687Z",
     "start_time": "2023-12-11T23:38:02.250224735Z"
    }
   },
   "id": "ec954b555aed8987"
  },
  {
   "cell_type": "markdown",
   "source": [
    "## Experiments"
   ],
   "metadata": {
    "collapsed": false
   },
   "id": "6f6e9eecd049cfaf"
  },
  {
   "cell_type": "code",
   "execution_count": 91,
   "outputs": [],
   "source": [
    "# ################\n",
    "# CONFIGURATION\n",
    "##################\n",
    "\n",
    "# Exécution de l'algorithme K-means sur les données par batch\n",
    "file_path = f'{DATA_PATH}/data.csv'\n",
    "k = 2\n",
    "batch_size = 20\n",
    "max_iter = 100\n"
   ],
   "metadata": {
    "collapsed": false,
    "ExecuteTime": {
     "end_time": "2023-12-11T23:38:02.306442401Z",
     "start_time": "2023-12-11T23:38:02.303845740Z"
    }
   },
   "id": "e8c00393d6d65879"
  },
  {
   "cell_type": "code",
   "execution_count": 92,
   "outputs": [],
   "source": [
    "# centers = None\n",
    "# counts = None\n",
    "# classes = None\n",
    "\n",
    "# ################\n",
    "# RUNNING ALGORITHM\n",
    "##################\n",
    "\n",
    "counts = np.zeros(k)\n",
    "data_gen = data_generator(file_path, batch_size)\n",
    "centers = initialize_centers(X, k)\n",
    "classes = np.array([])\n",
    "\n",
    "for _ in range(max_iter):\n",
    "    # reset cluster size\n",
    "    counts = np.zeros(k)\n",
    "    centers = initialize_centers(X, k)\n",
    "    data_gen = data_generator(file_path, batch_size) # \n",
    "    labels_lst = []  # stocker les labels du batch\n",
    "    for batch in data_gen:\n",
    "        centers, counts, batch_labels = update_centers(batch, centers, counts)\n",
    "        labels_lst.append(batch_labels)\n",
    "    \n",
    "    # Concaténation des labels de tous les batches   \n",
    "    classes = np.concatenate(labels_lst)"
   ],
   "metadata": {
    "collapsed": false,
    "ExecuteTime": {
     "end_time": "2023-12-11T23:38:02.636052409Z",
     "start_time": "2023-12-11T23:38:02.304413068Z"
    }
   },
   "id": "f04a2ef302077dd6"
  },
  {
   "cell_type": "code",
   "execution_count": 93,
   "outputs": [
    {
     "data": {
      "text/plain": "(array([[-2.70292301,  8.89011496],\n        [ 4.60840443,  2.16998192]]),\n array([50., 50.]),\n array([0, 1, 0, 1, 1, 0, 1, 1, 0, 0, 0, 1, 0, 0, 1, 1, 1, 1, 1, 0, 1, 1,\n        1, 1, 1, 0, 1, 0, 1, 1, 0, 0, 0, 0, 0, 1, 1, 0, 0, 0, 0, 1, 1, 1,\n        1, 0, 0, 0, 0, 1, 1, 0, 0, 1, 0, 1, 0, 1, 1, 0, 0, 1, 0, 1, 1, 1,\n        1, 0, 1, 1, 0, 1, 1, 1, 1, 1, 1, 0, 1, 0, 1, 0, 0, 0, 1, 0, 0, 0,\n        1, 0, 1, 0, 0, 0, 0, 0, 0, 1, 0, 0]))"
     },
     "execution_count": 93,
     "metadata": {},
     "output_type": "execute_result"
    }
   ],
   "source": [
    "centers, counts, classes"
   ],
   "metadata": {
    "collapsed": false,
    "ExecuteTime": {
     "end_time": "2023-12-11T23:38:02.644916030Z",
     "start_time": "2023-12-11T23:38:02.636907190Z"
    }
   },
   "id": "912b1d5dcf108c42"
  },
  {
   "cell_type": "code",
   "execution_count": 94,
   "outputs": [],
   "source": [
    "# ################\n",
    "# SAVING RESULTS\n",
    "##################\n",
    "\n",
    "RESULTS_PATH = 'experiments/online'\n",
    "\n",
    "\n",
    "os.makedirs(RESULTS_PATH, exist_ok=True)\n",
    "# Sauvegarde des résultats (centres, effectifs et labels) dans un fichier CSV\n",
    "results_df = pd.DataFrame({'Center_X': centers[:, 0], 'Center_Y': centers[:, 1], 'Counts': counts})\n",
    "results_df.to_csv(f'{RESULTS_PATH}/kmeans_report.csv', index=False, header=True)\n",
    "\n",
    "data_clusters_df = pd.concat([df, pd.DataFrame(classes, columns=['cluster'])], axis=1)\n",
    "data_clusters_df.to_csv(f'{RESULTS_PATH}/data_clusters.csv', index=False, header=True)"
   ],
   "metadata": {
    "collapsed": false,
    "ExecuteTime": {
     "end_time": "2023-12-11T23:38:02.702680251Z",
     "start_time": "2023-12-11T23:38:02.643654902Z"
    }
   },
   "id": "db3651ce381be278"
  },
  {
   "cell_type": "code",
   "execution_count": 95,
   "outputs": [
    {
     "data": {
      "text/plain": "<Figure size 640x480 with 1 Axes>",
      "image/png": "[encoded data removed]"
     },
     "metadata": {},
     "output_type": "display_data"
    }
   ],
   "source": [
    "# ################\n",
    "# VISUALISATIONS\n",
    "##################\n",
    "\n",
    "import matplotlib.pyplot as plt\n",
    "\n",
    "\n",
    "# Visualisation des clusters\n",
    "plt.scatter(X[:, 0], X[:, 1], c=classes, cmap='viridis')\n",
    "plt.scatter(centers[:, 0], centers[:, 1], c='red', marker='x', s=100)\n",
    "plt.title('Clusters obtenus avec K-means')\n",
    "plt.show()\n"
   ],
   "metadata": {
    "collapsed": false,
    "ExecuteTime": {
     "end_time": "2023-12-11T23:38:02.831445537Z",
     "start_time": "2023-12-11T23:38:02.687960767Z"
    }
   },
   "id": "58a68507584c5b37"
  },
  {
   "cell_type": "code",
   "execution_count": 95,
   "outputs": [],
   "source": [],
   "metadata": {
    "collapsed": false,
    "ExecuteTime": {
     "end_time": "2023-12-11T23:38:02.831961761Z",
     "start_time": "2023-12-11T23:38:02.826148566Z"
    }
   },
   "id": "b0d62165a608827"
  }
 ],
 "metadata": {
  "kernelspec": {
   "display_name": "Python 3",
   "language": "python",
   "name": "python3"
  },
  "language_info": {
   "codemirror_mode": {
    "name": "ipython",
    "version": 2
   },
   "file_extension": ".py",
   "mimetype": "text/x-python",
   "name": "python",
   "nbconvert_exporter": "python",
   "pygments_lexer": "ipython2",
   "version": "2.7.6"
  }
 },
 "nbformat": 4,
 "nbformat_minor": 5
}
